{
 "cells": [
  {
   "cell_type": "code",
   "execution_count": null,
   "id": "8cac5576",
   "metadata": {
    "ExecuteTime": {
     "end_time": "2023-02-16T10:40:53.023176Z",
     "start_time": "2023-02-16T10:40:48.500548Z"
    }
   },
   "outputs": [],
   "source": [
    "from io import BytesIO\n",
    "import json\n",
    "\n",
    "import requests\n",
    "from matplotlib import pyplot as plt\n",
    "import matplotlib.patches as patches"
   ]
  },
  {
   "cell_type": "markdown",
   "id": "39dbc3cd",
   "metadata": {},
   "source": [
    "Больше подробностей в документации: \n",
    "- https://mcs.mail.ru/docs/ru/ml/vision/manage-vision/vision-api-obj\n",
    "- https://mcs.mail.ru/docs/ru/additionals/api/vision-api"
   ]
  },
  {
   "cell_type": "code",
   "execution_count": null,
   "id": "342ca883",
   "metadata": {
    "ExecuteTime": {
     "end_time": "2023-02-16T10:40:55.204882Z",
     "start_time": "2023-02-16T10:40:55.199099Z"
    }
   },
   "outputs": [],
   "source": [
    "# определение эндпойнтов\n",
    "HOST = \"https://smarty.mail.ru\"\n",
    "\n",
    "URL_OBJ_DETECT = HOST + \"/api/v1/objects/detect\"\n",
    "URL_FR_SET = HOST + \"/api/v1/persons/set\"\n",
    "URL_RECOGNIZE = HOST + \"/api/v1/persons/recognize\""
   ]
  },
  {
   "cell_type": "code",
   "execution_count": null,
   "id": "2d4fcab4",
   "metadata": {
    "ExecuteTime": {
     "end_time": "2023-02-16T10:40:55.892069Z",
     "start_time": "2023-02-16T10:40:55.883206Z"
    }
   },
   "outputs": [],
   "source": [
    "# подготовка параметров для авторизации запросов\n",
    "oauth_provider = \"mcs\"\n",
    "oauth_token_path = \"./token\"\n",
    "with open(oauth_token_path, \"r\") as f:\n",
    "    oauth_token = f.read()\n",
    "\n",
    "# для пробрасывания авторизации в URL\n",
    "authorization_params = {\n",
    "    \"oauth_provider\": oauth_provider, \n",
    "    \"oauth_token\": oauth_token\n",
    "}"
   ]
  },
  {
   "cell_type": "code",
   "execution_count": null,
   "id": "e540dd4c",
   "metadata": {
    "ExecuteTime": {
     "end_time": "2023-02-16T10:40:56.351346Z",
     "start_time": "2023-02-16T10:40:56.346267Z"
    }
   },
   "outputs": [],
   "source": [
    "def plot_image(image, figsize=(15, 15)):\n",
    "    \"\"\"Функция для отрисовки изображений внутри ноутбучка\"\"\"\n",
    "    plt.figure(figsize=figsize)\n",
    "    plt.imshow(image, interpolation=\"lanczos\")\n",
    "    plt.axis('off')"
   ]
  },
  {
   "cell_type": "markdown",
   "id": "6783f1e7",
   "metadata": {},
   "source": [
    "# Распознавание авто"
   ]
  },
  {
   "cell_type": "markdown",
   "id": "e9d41064",
   "metadata": {},
   "source": [
    "**Сценарий**\n",
    "1. с некоторой периодичностью кадр из видеопотока отправляется на распознавание наличия авто\n",
    "2. если в кадре дейстувительно обнаружен автомобиль, то\n",
    "3. кадр отправляется на распознавание номеров\n",
    "4. если распознанный номер входит в число валидных, то проезд открывается"
   ]
  },
  {
   "cell_type": "code",
   "execution_count": null,
   "id": "c19185dd",
   "metadata": {
    "ExecuteTime": {
     "end_time": "2023-02-16T10:40:57.745851Z",
     "start_time": "2023-02-16T10:40:57.738379Z"
    }
   },
   "outputs": [],
   "source": [
    "def request_obj_detect(URL: str, img: bytes, mode: list[str]):\n",
    "    \"\"\"Функция обертка для упрощенной отправки запроса к эндпойнту objects/detect\"\"\"\n",
    "    # создать словарь с файлами для параметра files в post запросе\n",
    "    files = {}\n",
    "    name = \"file_0\"\n",
    "    files[name] = img\n",
    "    \n",
    "    # создать meta: Параметры запроса передаются в формате JSON в теле запроса с name=\"meta\"\n",
    "    meta = {\n",
    "        \"mode\": mode,\n",
    "        \"images\": [{\"name\":name}]\n",
    "    }\n",
    "    data = {'meta': json.dumps(meta)}\n",
    "    \n",
    "    response = requests.post(URL, params=authorization_params, data=data, files=files)\n",
    "    return response"
   ]
  },
  {
   "cell_type": "code",
   "execution_count": null,
   "id": "f453891b",
   "metadata": {
    "ExecuteTime": {
     "end_time": "2023-02-16T10:40:58.186907Z",
     "start_time": "2023-02-16T10:40:58.174958Z"
    }
   },
   "outputs": [],
   "source": [
    "def parse_obj_detection_result(response: requests.models.Response) -> list:\n",
    "    \"\"\"\n",
    "    Парсинг респонса с найденными объектами. Возвращает dict для удобной подачи в функцию отрисовки bounding boxes\n",
    "    \n",
    "    RETURN\n",
    "    bounding_boxes: {\n",
    "        \"label_1\": [left x, top y, right x, bottom y],\n",
    "        ...\n",
    "        \"label_n\": [left x, top y, right x, bottom y]\n",
    "    }\n",
    "    \"\"\"\n",
    "    \n",
    "    body = response.json()[\"body\"]\n",
    "    response_type = list(body.keys())[0]\n",
    "    recognized_objects = body[response_type][0][\"labels\"]\n",
    "    bb_dict = []\n",
    "    for i, box_info in enumerate(recognized_objects, 0):\n",
    "        label = box_info['eng']\n",
    "        coord = box_info['coord']\n",
    "        bb_dict.append(coord)\n",
    "    return bb_dict\n",
    "\n",
    "def parse_coords_for_rectangle(coord: list[int]):\n",
    "    \"\"\"\n",
    "    Необходимо вернуть в удобном для отрисовке в patches.Rectangle виде\n",
    "    На вход подается список из 4 точек: [left x, top y, right x, bottom y]\n",
    "    Также учесть инверсию оси Y изображения в API Vision и в matplotlib. Vision считает сверху, matplotlib - снизу\n",
    "    \"\"\"\n",
    "    \n",
    "    width = coord[2] - coord[0]\n",
    "    height = coord[1] - coord[3]  # из-за инверсии оси Y \n",
    "    xy = (coord[0], coord[3])\n",
    "    return xy, width, height\n",
    "\n",
    "def plot_image_with_bb(image, bounding_boxes: list, bb_color: str='blue'):\n",
    "    \"\"\"\n",
    "    Отрисовка bounding box\n",
    "    \"\"\"\n",
    "    fig, ax = plt.subplots(figsize=(15, 15))\n",
    "    ax.imshow(image, interpolation=\"lanczos\")\n",
    "    \n",
    "    for coord in bounding_boxes:\n",
    "        xy, width, height = parse_coords_for_rectangle(coord)\n",
    "        rect = patches.Rectangle(xy, width, height, linewidth=2, edgecolor=bb_color, facecolor='none')\n",
    "        ax.add_patch(rect)\n",
    "    plt.show()"
   ]
  },
  {
   "cell_type": "code",
   "execution_count": null,
   "id": "fffba827",
   "metadata": {
    "ExecuteTime": {
     "end_time": "2023-02-16T10:40:58.771037Z",
     "start_time": "2023-02-16T10:40:58.766369Z"
    }
   },
   "outputs": [],
   "source": [
    "# база номеров, которым въезд разрешен\n",
    "VALID_NUMBERS = [\n",
    "    'А212АА99',\n",
    "    '   ...   ',\n",
    "    'У329СО197'\n",
    "]\n",
    "\n",
    "# название класса автомобиля в ответе от модели\n",
    "CAR_TAG = 'Car'"
   ]
  },
  {
   "cell_type": "markdown",
   "id": "b2143320",
   "metadata": {},
   "source": [
    "## Наглядно по шагам"
   ]
  },
  {
   "cell_type": "markdown",
   "id": "59204204",
   "metadata": {},
   "source": [
    "### В кадре нет автомобиля"
   ]
  },
  {
   "cell_type": "code",
   "execution_count": null,
   "id": "24fbc906",
   "metadata": {
    "ExecuteTime": {
     "end_time": "2023-02-16T10:41:10.188072Z",
     "start_time": "2023-02-16T10:41:09.091703Z"
    }
   },
   "outputs": [],
   "source": [
    "# укажите путь до фотографии \n",
    "image_path = \"./photo_for_demo/car_number/car_number_0_empty.jpg\"\n",
    "with open(image_path, \"rb\") as image:\n",
    "    image_raw = image.read()\n",
    "image = plt.imread(image_path)\n",
    "plot_image(image, figsize=(11, 11))"
   ]
  },
  {
   "cell_type": "code",
   "execution_count": null,
   "id": "afeec035",
   "metadata": {
    "ExecuteTime": {
     "end_time": "2023-02-16T10:41:15.095500Z",
     "start_time": "2023-02-16T10:41:13.279925Z"
    }
   },
   "outputs": [],
   "source": [
    "response = request_obj_detect(URL_OBJ_DETECT, img=image_raw, mode=['multiobject'])\n",
    "response.json()"
   ]
  },
  {
   "cell_type": "markdown",
   "id": "19798e85",
   "metadata": {},
   "source": [
    "**Автомобиля нет, далее работа по распознаванию не ведется**"
   ]
  },
  {
   "cell_type": "markdown",
   "id": "b8560527",
   "metadata": {},
   "source": [
    "### В кадре есть автомобиль"
   ]
  },
  {
   "cell_type": "code",
   "execution_count": null,
   "id": "02749a68",
   "metadata": {
    "ExecuteTime": {
     "end_time": "2023-02-16T10:41:20.701751Z",
     "start_time": "2023-02-16T10:41:19.995097Z"
    }
   },
   "outputs": [],
   "source": [
    "# укажите путь до фотографии \n",
    "image_path = \"./photo_for_demo/car_number/car_number_1.jpg\"\n",
    "with open(image_path, \"rb\") as image:\n",
    "    image_raw = image.read()\n",
    "image = plt.imread(image_path)\n",
    "plot_image(image)"
   ]
  },
  {
   "cell_type": "code",
   "execution_count": null,
   "id": "ee71b3ba",
   "metadata": {
    "ExecuteTime": {
     "end_time": "2023-02-16T10:41:29.486662Z",
     "start_time": "2023-02-16T10:41:28.130287Z"
    },
    "scrolled": false
   },
   "outputs": [],
   "source": [
    "response = request_obj_detect(URL_OBJ_DETECT, img=image_raw, mode=['multiobject'])\n",
    "response.json()"
   ]
  },
  {
   "cell_type": "code",
   "execution_count": null,
   "id": "68ab4892",
   "metadata": {
    "ExecuteTime": {
     "end_time": "2023-02-16T10:41:34.156407Z",
     "start_time": "2023-02-16T10:41:33.258025Z"
    }
   },
   "outputs": [],
   "source": [
    "bounding_boxes = parse_obj_detection_result(response)\n",
    "plot_image_with_bb(image, bounding_boxes)"
   ]
  },
  {
   "cell_type": "markdown",
   "id": "d5770bfd",
   "metadata": {},
   "source": [
    "**Автомобиль обнаружен, далее отправляем на распознавание номеров**"
   ]
  },
  {
   "cell_type": "code",
   "execution_count": null,
   "id": "bb7ec2ca",
   "metadata": {
    "ExecuteTime": {
     "end_time": "2023-02-16T10:41:37.462970Z",
     "start_time": "2023-02-16T10:41:36.528789Z"
    }
   },
   "outputs": [],
   "source": [
    "response = request_obj_detect(URL_OBJ_DETECT, img=image_raw, mode=['car_number'])\n",
    "response.json()"
   ]
  },
  {
   "cell_type": "code",
   "execution_count": null,
   "id": "a748ad4d",
   "metadata": {
    "ExecuteTime": {
     "end_time": "2023-02-16T10:41:39.490489Z",
     "start_time": "2023-02-16T10:41:38.679975Z"
    }
   },
   "outputs": [],
   "source": [
    "bounding_boxes = parse_obj_detection_result(response)\n",
    "plot_image_with_bb(image, bounding_boxes)"
   ]
  },
  {
   "cell_type": "code",
   "execution_count": null,
   "id": "5a681072",
   "metadata": {
    "ExecuteTime": {
     "end_time": "2023-02-16T10:41:39.855595Z",
     "start_time": "2023-02-16T10:41:39.849127Z"
    }
   },
   "outputs": [],
   "source": [
    "car_number = response.json()['body']['car_number_labels'][0]['labels'][0]['rus']\n",
    "if car_number in VALID_NUMBERS:\n",
    "    print('OPEN THE DOOR!')\n",
    "else:\n",
    "    print('HOLD THE DOOR!')"
   ]
  },
  {
   "cell_type": "markdown",
   "id": "3ecf6492",
   "metadata": {},
   "source": [
    "## Сборка решения"
   ]
  },
  {
   "cell_type": "code",
   "execution_count": null,
   "id": "ad70b1b1",
   "metadata": {
    "ExecuteTime": {
     "end_time": "2023-02-16T10:41:44.956045Z",
     "start_time": "2023-02-16T10:41:44.945393Z"
    }
   },
   "outputs": [],
   "source": [
    "def detect_auto(image_raw: bytes):\n",
    "    \"\"\"Проверка на наличие автомобиля в кадре\"\"\"\n",
    "    response = request_obj_detect(URL_OBJ_DETECT, img=image_raw, mode=['multiobject'])\n",
    "    recognized_objects = response.json()['body']['multiobject_labels'][0]['labels']\n",
    "    \n",
    "    for obj in recognized_objects:\n",
    "        if obj['eng'] == CAR_TAG:\n",
    "            return True\n",
    "    return False\n",
    "\n",
    "\n",
    "def recognize_car_number(image_raw: bytes):\n",
    "    \"\"\"Распознавание номера\"\"\"\n",
    "    response = request_obj_detect(URL_OBJ_DETECT, img=image_raw, mode=['car_number'])\n",
    "    car_number = response.json()['body']['car_number_labels'][0]['labels'][0]['rus']\n",
    "    return car_number\n",
    "\n",
    "\n",
    "def run_pipeline(image_path: str):\n",
    "    with open(image_path, \"rb\") as image:\n",
    "        image_raw = image.read()\n",
    "    \n",
    "    if detect_auto(image_raw):\n",
    "        car_number = recognize_car_number(image_raw)\n",
    "        print(car_number)\n",
    "        if car_number in VALID_NUMBERS:\n",
    "            print('OPEN THE DOOR!')\n",
    "        else:\n",
    "            print('HOLD THE DOOR!')\n",
    "    else:\n",
    "        print('HOLD THE DOOR!')"
   ]
  },
  {
   "cell_type": "code",
   "execution_count": null,
   "id": "be6a7c6c",
   "metadata": {
    "ExecuteTime": {
     "end_time": "2023-02-16T10:41:46.791133Z",
     "start_time": "2023-02-16T10:41:46.071821Z"
    }
   },
   "outputs": [],
   "source": [
    "image_path = \"./photo_for_demo/car_number/car_number_1.jpg\"\n",
    "image = plt.imread(image_path)\n",
    "plot_image(image, figsize=(15, 15))"
   ]
  },
  {
   "cell_type": "code",
   "execution_count": null,
   "id": "fc699e87",
   "metadata": {
    "ExecuteTime": {
     "end_time": "2023-02-16T10:41:49.946245Z",
     "start_time": "2023-02-16T10:41:47.279578Z"
    }
   },
   "outputs": [],
   "source": [
    "run_pipeline(image_path)"
   ]
  },
  {
   "cell_type": "code",
   "execution_count": null,
   "id": "b0ac49af",
   "metadata": {
    "ExecuteTime": {
     "end_time": "2023-02-16T10:41:52.458522Z",
     "start_time": "2023-02-16T10:41:51.656380Z"
    }
   },
   "outputs": [],
   "source": [
    "image_path = \"./photo_for_demo/car_number/car_number_2.jpg\"\n",
    "image = plt.imread(image_path)\n",
    "plot_image(image, figsize=(15, 15))"
   ]
  },
  {
   "cell_type": "code",
   "execution_count": null,
   "id": "03a1c8b2",
   "metadata": {
    "ExecuteTime": {
     "end_time": "2023-02-16T10:41:52.960268Z",
     "start_time": "2023-02-16T10:41:52.954237Z"
    }
   },
   "outputs": [],
   "source": [
    "VALID_NUMBERS"
   ]
  },
  {
   "cell_type": "code",
   "execution_count": null,
   "id": "42140c05",
   "metadata": {
    "ExecuteTime": {
     "end_time": "2023-02-16T10:41:57.361609Z",
     "start_time": "2023-02-16T10:41:54.239245Z"
    }
   },
   "outputs": [],
   "source": [
    "run_pipeline(image_path)"
   ]
  },
  {
   "cell_type": "markdown",
   "id": "b0e55f42",
   "metadata": {},
   "source": [
    "# Распознавание лиц"
   ]
  },
  {
   "cell_type": "markdown",
   "id": "2b6929f5",
   "metadata": {},
   "source": [
    "Для распознавания лиц используются четыре метода API:\n",
    "- **set**:       позволяет установить связь между заданной фотографией и конкретным  person_id\n",
    "- **recognize**: позволяет распознать person по заданной фотографии\n",
    "- **delete**:    позволяет удалить связь между фотографией и person_id\n",
    "- **truncate**:  позволяет полностью очистить space от внесенных person_id\n",
    "\n",
    "В этом разделе демо, используя метод set, зададим определенный person_id для человека с фотографии. Затем с помощью метода recognize распознаем этого человека на других фотографиях.\n",
    "\n",
    "Больше подробностей в документации: https://mcs.mail.ru/docs/ru/ml/vision/manage-vision/face-recognition"
   ]
  },
  {
   "cell_type": "code",
   "execution_count": null,
   "id": "89e9faf4",
   "metadata": {
    "ExecuteTime": {
     "end_time": "2023-02-16T10:42:04.369949Z",
     "start_time": "2023-02-16T10:42:04.365361Z"
    }
   },
   "outputs": [],
   "source": [
    "NAMESPACE_FOR_DEMO = '7'\n",
    "VALID_PERSONS = {}"
   ]
  },
  {
   "cell_type": "markdown",
   "id": "7b84242f",
   "metadata": {},
   "source": [
    "**Шаг 1: у нас должна быть база валидных лиц, которых мы пропускаем на территорию**"
   ]
  },
  {
   "cell_type": "code",
   "execution_count": null,
   "id": "e1321a5d",
   "metadata": {
    "ExecuteTime": {
     "end_time": "2023-02-16T10:42:05.193953Z",
     "start_time": "2023-02-16T10:42:05.186382Z"
    }
   },
   "outputs": [],
   "source": [
    "def request_set(URL: str, img: bytes, person_id: int, space: str=\"0\"):\n",
    "    \"\"\"Функция-обёртка для обращения к методу set\"\"\"\n",
    "    \n",
    "    # создать словарь с файлами для параметра files в post запросе\n",
    "    files = {}\n",
    "    name = \"file_0\"\n",
    "    files[name] = img\n",
    "    \n",
    "    # создать meta: Параметры запроса передаются в формате JSON в теле запроса с name=\"meta\"\n",
    "    meta = {\n",
    "        \"space\": space,\n",
    "        \"images\": [{\"name\":name, \"person_id\": person_id}]\n",
    "    }\n",
    "    data = {'meta': json.dumps(meta)}\n",
    "    \n",
    "    # отправка запроса\n",
    "    response = requests.post(URL, params=authorization_params, data=data, files=files)\n",
    "    return response"
   ]
  },
  {
   "cell_type": "code",
   "execution_count": null,
   "id": "52b4405f",
   "metadata": {
    "ExecuteTime": {
     "end_time": "2023-02-16T10:42:06.408251Z",
     "start_time": "2023-02-16T10:42:06.401439Z"
    }
   },
   "outputs": [],
   "source": [
    "def request_recognize(URL: str, img: bytes, create_new: bool=False, space: str=\"0\"):\n",
    "    \"\"\"Функция обертка для упрощенной отправки запроса к эндпойнту recognize\"\"\"\n",
    "    \n",
    "    # создать словарь с файлами для параметра files в post запросе\n",
    "    files = {}\n",
    "    name = \"file_0\"\n",
    "    files[name] = img\n",
    "    \n",
    "    # создать meta: Параметры запроса передаются в формате JSON в теле запроса с name=\"meta\"\n",
    "    meta = {\n",
    "        \"space\": space,\n",
    "        \"create_new\": create_new,\n",
    "        \"images\": [{\"name\":name}]\n",
    "    }\n",
    "    data = {'meta': json.dumps(meta)}\n",
    "    \n",
    "    # отправка запроса\n",
    "    response = requests.post(URL, params=authorization_params, data=data, files=files)\n",
    "    return response"
   ]
  },
  {
   "cell_type": "code",
   "execution_count": null,
   "id": "8a428b21",
   "metadata": {
    "ExecuteTime": {
     "end_time": "2023-02-16T10:42:06.811266Z",
     "start_time": "2023-02-16T10:42:06.805484Z"
    }
   },
   "outputs": [],
   "source": [
    "def parse_persons_response(response):\n",
    "    persons_list = response.json()['body']['objects'][0]['persons']\n",
    "    persons_bb = []\n",
    "\n",
    "    for person in persons_list:\n",
    "        persons_bb.append(person['coord'])\n",
    "    return persons_bb"
   ]
  },
  {
   "cell_type": "markdown",
   "id": "1c952a46",
   "metadata": {},
   "source": [
    "**Присвоить person_id определенному человеку**"
   ]
  },
  {
   "cell_type": "code",
   "execution_count": null,
   "id": "f12ee3e5",
   "metadata": {
    "ExecuteTime": {
     "end_time": "2023-02-16T10:42:08.777470Z",
     "start_time": "2023-02-16T10:42:08.773906Z"
    }
   },
   "outputs": [],
   "source": [
    "# укажите путь до фотографии \n",
    "image_path_set = \"./photo_for_demo/fr/fr_1_dim_set.jpg\"\n",
    "# укажите, какой person_id хотите присвоить этому человеку\n",
    "person_id = 2"
   ]
  },
  {
   "cell_type": "code",
   "execution_count": null,
   "id": "8f7fdf7f",
   "metadata": {
    "ExecuteTime": {
     "end_time": "2023-02-16T10:42:10.963354Z",
     "start_time": "2023-02-16T10:42:09.716039Z"
    }
   },
   "outputs": [],
   "source": [
    "with open(image_path_set, \"rb\") as image:\n",
    "    image_set_raw = image.read()\n",
    "image_set = plt.imread(image_path_set)\n",
    "plot_image(image_set, figsize=(7, 7))"
   ]
  },
  {
   "cell_type": "code",
   "execution_count": null,
   "id": "29e09aaa",
   "metadata": {
    "ExecuteTime": {
     "end_time": "2023-02-16T10:42:12.111387Z",
     "start_time": "2023-02-16T10:42:11.531780Z"
    }
   },
   "outputs": [],
   "source": [
    "# поставим в соответствие человеку с фотографии person_id\n",
    "response = request_set(URL_FR_SET, img=image_set_raw, person_id=person_id, space=NAMESPACE_FOR_DEMO)\n",
    "response.json()"
   ]
  },
  {
   "cell_type": "code",
   "execution_count": null,
   "id": "68b97dda",
   "metadata": {
    "ExecuteTime": {
     "end_time": "2023-02-16T10:42:13.181005Z",
     "start_time": "2023-02-16T10:42:13.177079Z"
    }
   },
   "outputs": [],
   "source": [
    "# дополним список валидных персон, которым разрешен проход на территорию\n",
    "if response.json()['status'] == 200:\n",
    "    VALID_PERSONS[f'person{person_id}'] = 'Димитрий'"
   ]
  },
  {
   "cell_type": "code",
   "execution_count": null,
   "id": "39f00698",
   "metadata": {
    "ExecuteTime": {
     "end_time": "2023-02-16T10:42:13.682891Z",
     "start_time": "2023-02-16T10:42:13.676803Z"
    }
   },
   "outputs": [],
   "source": [
    "VALID_PERSONS"
   ]
  },
  {
   "cell_type": "markdown",
   "id": "0d2a1aa5",
   "metadata": {},
   "source": [
    "**Распознавание на проходной**"
   ]
  },
  {
   "cell_type": "markdown",
   "id": "ec973f81",
   "metadata": {},
   "source": [
    "**Человек из белого списка**"
   ]
  },
  {
   "cell_type": "code",
   "execution_count": null,
   "id": "c9f6e2da",
   "metadata": {
    "ExecuteTime": {
     "end_time": "2023-02-16T10:42:39.654992Z",
     "start_time": "2023-02-16T10:42:35.849049Z"
    }
   },
   "outputs": [],
   "source": [
    "# укажите путь до фотографии\n",
    "image_path_recognize = \"./photo_for_demo/fr/fr_1_dim_rec1.jpg\"\n",
    "\n",
    "with open(image_path_recognize, \"rb\") as image:\n",
    "    image_recognize_raw = image.read()\n",
    "image_recognize = plt.imread(image_path_recognize)\n",
    "plot_image(image_recognize, figsize=(7, 7))"
   ]
  },
  {
   "cell_type": "code",
   "execution_count": null,
   "id": "2bddb7ee",
   "metadata": {
    "ExecuteTime": {
     "end_time": "2023-02-16T10:42:42.619033Z",
     "start_time": "2023-02-16T10:42:41.888908Z"
    },
    "scrolled": false
   },
   "outputs": [],
   "source": [
    "response = request_recognize(URL_RECOGNIZE, img=image_recognize_raw, create_new=False, space=NAMESPACE_FOR_DEMO)\n",
    "response.json()"
   ]
  },
  {
   "cell_type": "code",
   "execution_count": null,
   "id": "37000574",
   "metadata": {
    "ExecuteTime": {
     "end_time": "2023-02-16T10:42:46.715399Z",
     "start_time": "2023-02-16T10:42:42.622478Z"
    }
   },
   "outputs": [],
   "source": [
    "plot_image_with_bb(image_recognize, parse_persons_response(response), bb_color='g')"
   ]
  },
  {
   "cell_type": "markdown",
   "id": "c6928993",
   "metadata": {},
   "source": [
    "**Человек не из белого списка**"
   ]
  },
  {
   "cell_type": "code",
   "execution_count": null,
   "id": "cbff23b1",
   "metadata": {
    "ExecuteTime": {
     "end_time": "2023-02-16T10:42:50.720225Z",
     "start_time": "2023-02-16T10:42:50.320543Z"
    }
   },
   "outputs": [],
   "source": [
    "# укажите путь до фотографии\n",
    "image_path_recognize = \"./photo_for_demo/fr/fr_2_alex_rec.png\"\n",
    "\n",
    "with open(image_path_recognize, \"rb\") as image:\n",
    "    image_recognize_raw = image.read()\n",
    "image_recognize = plt.imread(image_path_recognize)\n",
    "plot_image(image_recognize, figsize=(7, 7))"
   ]
  },
  {
   "cell_type": "code",
   "execution_count": null,
   "id": "4b9f5bf8",
   "metadata": {
    "ExecuteTime": {
     "end_time": "2023-02-16T10:42:51.770929Z",
     "start_time": "2023-02-16T10:42:51.270117Z"
    },
    "scrolled": false
   },
   "outputs": [],
   "source": [
    "response = request_recognize(URL_RECOGNIZE, img=image_recognize_raw, create_new=False, space=NAMESPACE_FOR_DEMO)\n",
    "response.json()"
   ]
  },
  {
   "cell_type": "code",
   "execution_count": null,
   "id": "699f7661",
   "metadata": {
    "ExecuteTime": {
     "end_time": "2023-02-16T10:42:53.091698Z",
     "start_time": "2023-02-16T10:42:52.199832Z"
    }
   },
   "outputs": [],
   "source": [
    "plot_image_with_bb(image_recognize, parse_persons_response(response), bb_color='r')"
   ]
  }
 ],
 "metadata": {
  "kernelspec": {
   "display_name": "Python [conda env:root] *",
   "language": "python",
   "name": "conda-root-py"
  },
  "language_info": {
   "codemirror_mode": {
    "name": "ipython",
    "version": 3
   },
   "file_extension": ".py",
   "mimetype": "text/x-python",
   "name": "python",
   "nbconvert_exporter": "python",
   "pygments_lexer": "ipython3",
   "version": "3.9.7"
  },
  "toc": {
   "base_numbering": 1,
   "nav_menu": {},
   "number_sections": true,
   "sideBar": true,
   "skip_h1_title": false,
   "title_cell": "Table of Contents",
   "title_sidebar": "Contents",
   "toc_cell": false,
   "toc_position": {},
   "toc_section_display": true,
   "toc_window_display": true
  }
 },
 "nbformat": 4,
 "nbformat_minor": 5
}
